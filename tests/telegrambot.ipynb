{
 "cells": [
  {
   "cell_type": "code",
   "execution_count": 2,
   "metadata": {},
   "outputs": [],
   "source": [
    "from typing import Final\n",
    "from telegram import Update\n",
    "from telegram.ext import Application, CommandHandler, MessageHandler, filters, ContextTypes\n",
    "\n",
    "with open('telegram_keys.txt', 'r') as f:\n",
    "    user_name= f.readline().strip()\n",
    "    TOKEN = f.readline().strip()\n",
    "\n",
    "\n",
    "async def start_command(update: Update, contxt: ContextTypes.DEFAULT_TYPE):\n",
    "    await update.message.reply_text(\"ازيك ياسطا\")\n",
    "\n",
    "\n",
    "def handle_response(text:str)-> str:\n",
    "    if 'hello' in text.lower():\n",
    "        return 'عامل ايه يا باشا'\n",
    "    \n",
    "    if 'how are you' in text.lower():\n",
    "        return 'كله تمام'\n",
    "\n",
    "    if 'anas' in text.lower():\n",
    "        return 'fuck you ya Anus'\n",
    "\n",
    "    return 'مش فاهم منك حاجة يا خرا انت'\n",
    "\n",
    "\n",
    "async def handle_message(update: Update, context: ContextTypes.DEFAULT_TYPE):\n",
    "    message_type:str = update.message.chat.type #in private chat or group\n",
    "    "
   ]
  },
  {
   "cell_type": "code",
   "execution_count": 7,
   "metadata": {},
   "outputs": [
    {
     "name": "stdout",
     "output_type": "stream",
     "text": [
      "NileU_bot\n",
      "\n",
      "7157378237:AAFoB3PInU0yrI02ygZ8V1-JvFq-iq6ZUDU\n",
      "\n"
     ]
    }
   ],
   "source": [
    "f = open('telegram_keys.txt', 'r')\n",
    "print(f.readline())\n",
    "print(f.readline())"
   ]
  },
  {
   "cell_type": "code",
   "execution_count": 14,
   "metadata": {},
   "outputs": [],
   "source": []
  },
  {
   "cell_type": "code",
   "execution_count": null,
   "metadata": {},
   "outputs": [],
   "source": []
  }
 ],
 "metadata": {
  "kernelspec": {
   "display_name": "Python 3",
   "language": "python",
   "name": "python3"
  },
  "language_info": {
   "codemirror_mode": {
    "name": "ipython",
    "version": 3
   },
   "file_extension": ".py",
   "mimetype": "text/x-python",
   "name": "python",
   "nbconvert_exporter": "python",
   "pygments_lexer": "ipython3",
   "version": "3.10.11"
  }
 },
 "nbformat": 4,
 "nbformat_minor": 2
}
