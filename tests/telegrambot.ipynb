{
 "cells": [
  {
   "cell_type": "code",
   "execution_count": 2,
   "metadata": {},
   "outputs": [],
   "source": [
    "from typing import Final\n",
    "from telegram import Update\n",
    "from telegram.ext import Application, CommandHandler, MessageHandler, filters, ContextTypes\n",
    "\n",
    "token:Final ='7157378237:AAFoB3PInU0yrI02ygZ8V1-JvFq-iq6ZUDU'\n",
    "\n",
    "user_name= 'NileU_bot'\n",
    "\n",
    "\n",
    "async def start_command(update: Update, contxt: ContextTypes.DEFAULT_TYPE):\n",
    "    await update.message.reply_text(\"ازيك ياسطا\")\n",
    "\n",
    "\n",
    "def handle_response(text:str)-> str:\n",
    "    if 'hello' in text.lower():\n",
    "        return 'عامل ايه يا باشا'\n",
    "    \n",
    "    if 'how are you' in text.lower():\n",
    "        return 'كله تمام'\n",
    "\n",
    "    if 'anas' in text.lower():\n",
    "        return 'fuck you ya Anus'\n",
    "\n",
    "    return 'مش فاهم منك حاجة يا خرا انت'"
   ]
  },
  {
   "cell_type": "code",
   "execution_count": null,
   "metadata": {},
   "outputs": [],
   "source": []
  }
 ],
 "metadata": {
  "kernelspec": {
   "display_name": "Python 3",
   "language": "python",
   "name": "python3"
  },
  "language_info": {
   "codemirror_mode": {
    "name": "ipython",
    "version": 3
   },
   "file_extension": ".py",
   "mimetype": "text/x-python",
   "name": "python",
   "nbconvert_exporter": "python",
   "pygments_lexer": "ipython3",
   "version": "3.10.11"
  }
 },
 "nbformat": 4,
 "nbformat_minor": 2
}
